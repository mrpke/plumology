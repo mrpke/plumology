{
 "cells": [
  {
   "cell_type": "markdown",
   "metadata": {},
   "source": [
    "PLUMOLOGY\n",
    "=========\n",
    "\n",
    "`vis`: Visualization and plotting functions\n",
    "\n",
    "`util`: Various utilities and calculation functions\n",
    "\n",
    "`io`: Functions to read certain output files and an HDF interface"
   ]
  },
  {
   "cell_type": "code",
   "execution_count": 18,
   "metadata": {
    "collapsed": true
   },
   "outputs": [],
   "source": [
    "from plumology import vis, util, io\n",
    "\n",
    "import numpy as np\n",
    "import pandas as pd\n",
    "import matplotlib.pyplot as plt\n",
    "\n",
    "%matplotlib inline"
   ]
  },
  {
   "cell_type": "markdown",
   "metadata": {},
   "source": [
    "Reading PLUMED output\n",
    "---------------------\n",
    "We read a file in PLUMED output format:"
   ]
  },
  {
   "cell_type": "code",
   "execution_count": 6,
   "metadata": {
    "collapsed": false
   },
   "outputs": [],
   "source": [
    "data = io.read_plumed('data.dat')"
   ]
  },
  {
   "cell_type": "code",
   "execution_count": 7,
   "metadata": {
    "collapsed": false
   },
   "outputs": [
    {
     "data": {
      "text/html": [
       "<div>\n",
       "<table border=\"1\" class=\"dataframe\">\n",
       "  <thead>\n",
       "    <tr style=\"text-align: right;\">\n",
       "      <th></th>\n",
       "      <th>time</th>\n",
       "      <th>abphi</th>\n",
       "      <th>abpsi</th>\n",
       "      <th>phi5</th>\n",
       "      <th>psi5</th>\n",
       "      <th>dihtrp_cacb</th>\n",
       "      <th>dihtrp_cbcg</th>\n",
       "      <th>peplen</th>\n",
       "      <th>cagyr</th>\n",
       "      <th>eedist</th>\n",
       "    </tr>\n",
       "  </thead>\n",
       "  <tbody>\n",
       "    <tr>\n",
       "      <th>0</th>\n",
       "      <td>90</td>\n",
       "      <td>3.949780</td>\n",
       "      <td>5.595903</td>\n",
       "      <td>-1.716997</td>\n",
       "      <td>2.951164</td>\n",
       "      <td>-0.668110</td>\n",
       "      <td>1.421794</td>\n",
       "      <td>2.069658</td>\n",
       "      <td>0.701871</td>\n",
       "      <td>2.219752</td>\n",
       "    </tr>\n",
       "    <tr>\n",
       "      <th>1</th>\n",
       "      <td>190</td>\n",
       "      <td>3.743964</td>\n",
       "      <td>5.198566</td>\n",
       "      <td>-1.722975</td>\n",
       "      <td>2.657496</td>\n",
       "      <td>-1.075799</td>\n",
       "      <td>-1.337500</td>\n",
       "      <td>2.043977</td>\n",
       "      <td>0.696035</td>\n",
       "      <td>2.132239</td>\n",
       "    </tr>\n",
       "    <tr>\n",
       "      <th>2</th>\n",
       "      <td>290</td>\n",
       "      <td>3.965079</td>\n",
       "      <td>3.996436</td>\n",
       "      <td>-1.621390</td>\n",
       "      <td>2.336440</td>\n",
       "      <td>-1.208070</td>\n",
       "      <td>-1.699527</td>\n",
       "      <td>1.805404</td>\n",
       "      <td>0.657394</td>\n",
       "      <td>1.989139</td>\n",
       "    </tr>\n",
       "    <tr>\n",
       "      <th>3</th>\n",
       "      <td>390</td>\n",
       "      <td>4.939251</td>\n",
       "      <td>6.343268</td>\n",
       "      <td>-2.761580</td>\n",
       "      <td>2.616811</td>\n",
       "      <td>-1.133775</td>\n",
       "      <td>-1.449500</td>\n",
       "      <td>2.166687</td>\n",
       "      <td>0.776754</td>\n",
       "      <td>2.274408</td>\n",
       "    </tr>\n",
       "    <tr>\n",
       "      <th>4</th>\n",
       "      <td>490</td>\n",
       "      <td>4.369875</td>\n",
       "      <td>6.241371</td>\n",
       "      <td>-1.034951</td>\n",
       "      <td>2.275747</td>\n",
       "      <td>-1.472459</td>\n",
       "      <td>-1.736087</td>\n",
       "      <td>2.180349</td>\n",
       "      <td>0.743747</td>\n",
       "      <td>2.400522</td>\n",
       "    </tr>\n",
       "  </tbody>\n",
       "</table>\n",
       "</div>"
      ],
      "text/plain": [
       "   time     abphi     abpsi      phi5      psi5  dihtrp_cacb  dihtrp_cbcg  \\\n",
       "0    90  3.949780  5.595903 -1.716997  2.951164    -0.668110     1.421794   \n",
       "1   190  3.743964  5.198566 -1.722975  2.657496    -1.075799    -1.337500   \n",
       "2   290  3.965079  3.996436 -1.621390  2.336440    -1.208070    -1.699527   \n",
       "3   390  4.939251  6.343268 -2.761580  2.616811    -1.133775    -1.449500   \n",
       "4   490  4.369875  6.241371 -1.034951  2.275747    -1.472459    -1.736087   \n",
       "\n",
       "     peplen     cagyr    eedist  \n",
       "0  2.069658  0.701871  2.219752  \n",
       "1  2.043977  0.696035  2.132239  \n",
       "2  1.805404  0.657394  1.989139  \n",
       "3  2.166687  0.776754  2.274408  \n",
       "4  2.180349  0.743747  2.400522  "
      ]
     },
     "execution_count": 7,
     "metadata": {},
     "output_type": "execute_result"
    }
   ],
   "source": [
    "data.head()"
   ]
  },
  {
   "cell_type": "markdown",
   "metadata": {},
   "source": [
    "We can also specify certain columns using regular expressions, and also specify the stepping:"
   ]
  },
  {
   "cell_type": "code",
   "execution_count": 10,
   "metadata": {
    "collapsed": false
   },
   "outputs": [],
   "source": [
    "data = io.read_plumed('data.dat', columns=[r'p.i\\d', 'peplen'], step=10)"
   ]
  },
  {
   "cell_type": "code",
   "execution_count": 11,
   "metadata": {
    "collapsed": false
   },
   "outputs": [
    {
     "data": {
      "text/html": [
       "<div>\n",
       "<table border=\"1\" class=\"dataframe\">\n",
       "  <thead>\n",
       "    <tr style=\"text-align: right;\">\n",
       "      <th></th>\n",
       "      <th>phi5</th>\n",
       "      <th>psi5</th>\n",
       "      <th>peplen</th>\n",
       "    </tr>\n",
       "  </thead>\n",
       "  <tbody>\n",
       "    <tr>\n",
       "      <th>0</th>\n",
       "      <td>-1.716997</td>\n",
       "      <td>2.951164</td>\n",
       "      <td>2.069658</td>\n",
       "    </tr>\n",
       "    <tr>\n",
       "      <th>10</th>\n",
       "      <td>-2.509759</td>\n",
       "      <td>2.830119</td>\n",
       "      <td>2.612747</td>\n",
       "    </tr>\n",
       "    <tr>\n",
       "      <th>20</th>\n",
       "      <td>-1.162698</td>\n",
       "      <td>2.334276</td>\n",
       "      <td>1.819023</td>\n",
       "    </tr>\n",
       "    <tr>\n",
       "      <th>30</th>\n",
       "      <td>-2.824849</td>\n",
       "      <td>2.319441</td>\n",
       "      <td>2.337057</td>\n",
       "    </tr>\n",
       "    <tr>\n",
       "      <th>40</th>\n",
       "      <td>-2.588723</td>\n",
       "      <td>0.094210</td>\n",
       "      <td>2.000948</td>\n",
       "    </tr>\n",
       "  </tbody>\n",
       "</table>\n",
       "</div>"
      ],
      "text/plain": [
       "        phi5      psi5    peplen\n",
       "0  -1.716997  2.951164  2.069658\n",
       "10 -2.509759  2.830119  2.612747\n",
       "20 -1.162698  2.334276  1.819023\n",
       "30 -2.824849  2.319441  2.337057\n",
       "40 -2.588723  0.094210  2.000948"
      ]
     },
     "execution_count": 11,
     "metadata": {},
     "output_type": "execute_result"
    }
   ],
   "source": [
    "data.head()"
   ]
  },
  {
   "cell_type": "markdown",
   "metadata": {},
   "source": [
    "Lets read some MetaD hills files:"
   ]
  },
  {
   "cell_type": "code",
   "execution_count": 13,
   "metadata": {
    "collapsed": false
   },
   "outputs": [],
   "source": [
    "hills = io.read_all_hills(['HILLS.0', 'HILLS.1'])"
   ]
  },
  {
   "cell_type": "markdown",
   "metadata": {},
   "source": [
    "The separate files are horizontally concatenated into one dataframe:"
   ]
  },
  {
   "cell_type": "code",
   "execution_count": 14,
   "metadata": {
    "collapsed": false
   },
   "outputs": [
    {
     "data": {
      "text/html": [
       "<div>\n",
       "<table border=\"1\" class=\"dataframe\">\n",
       "  <thead>\n",
       "    <tr style=\"text-align: right;\">\n",
       "      <th></th>\n",
       "      <th>time</th>\n",
       "      <th>phi5</th>\n",
       "      <th>psi5</th>\n",
       "    </tr>\n",
       "  </thead>\n",
       "  <tbody>\n",
       "    <tr>\n",
       "      <th>0</th>\n",
       "      <td>10.000000</td>\n",
       "      <td>-2.365788</td>\n",
       "      <td>1.731751</td>\n",
       "    </tr>\n",
       "    <tr>\n",
       "      <th>1</th>\n",
       "      <td>20.000001</td>\n",
       "      <td>-2.648663</td>\n",
       "      <td>2.423689</td>\n",
       "    </tr>\n",
       "    <tr>\n",
       "      <th>2</th>\n",
       "      <td>30.000001</td>\n",
       "      <td>-2.329202</td>\n",
       "      <td>0.659985</td>\n",
       "    </tr>\n",
       "    <tr>\n",
       "      <th>3</th>\n",
       "      <td>40.000002</td>\n",
       "      <td>-2.271279</td>\n",
       "      <td>0.022047</td>\n",
       "    </tr>\n",
       "    <tr>\n",
       "      <th>4</th>\n",
       "      <td>50.000002</td>\n",
       "      <td>-2.507048</td>\n",
       "      <td>0.045342</td>\n",
       "    </tr>\n",
       "  </tbody>\n",
       "</table>\n",
       "</div>"
      ],
      "text/plain": [
       "        time      phi5      psi5\n",
       "0  10.000000 -2.365788  1.731751\n",
       "1  20.000001 -2.648663  2.423689\n",
       "2  30.000001 -2.329202  0.659985\n",
       "3  40.000002 -2.271279  0.022047\n",
       "4  50.000002 -2.507048  0.045342"
      ]
     },
     "execution_count": 14,
     "metadata": {},
     "output_type": "execute_result"
    }
   ],
   "source": [
    "hills.head()"
   ]
  },
  {
   "cell_type": "markdown",
   "metadata": {},
   "source": [
    "Analysis\n",
    "--------\n",
    "Lets compute 1D histograms of our collective variables:"
   ]
  },
  {
   "cell_type": "code",
   "execution_count": 15,
   "metadata": {
    "collapsed": true
   },
   "outputs": [],
   "source": [
    "dist, ranges = util.dist1D(data, nbins=50)"
   ]
  },
  {
   "cell_type": "code",
   "execution_count": 19,
   "metadata": {
    "collapsed": false
   },
   "outputs": [
    {
     "data": {
      "image/png": "[encoded data removed]",
      "text/plain": [
       "<matplotlib.figure.Figure at 0x7f0ea8af7f98>"
      ]
     },
     "metadata": {},
     "output_type": "display_data"
    }
   ],
   "source": [
    "_ = vis.dist1D(dist, ranges)"
   ]
  },
  {
   "cell_type": "markdown",
   "metadata": {},
   "source": [
    "We also have a *SketchMap* representation of our trajectory and can visualize it as a free-energy surface:"
   ]
  },
  {
   "cell_type": "code",
   "execution_count": 30,
   "metadata": {
    "collapsed": true
   },
   "outputs": [],
   "source": [
    "sm_data = io.read_plumed('colvar-red1.dat')"
   ]
  },
  {
   "cell_type": "markdown",
   "metadata": {},
   "source": [
    "We should probably clip it to a reasonable range first:"
   ]
  },
  {
   "cell_type": "code",
   "execution_count": 27,
   "metadata": {
    "collapsed": false
   },
   "outputs": [],
   "source": [
    "clipped_data = util.clip(sm_data, ranges={'cv1': (-50, 50), 'cv2': (-50, 50)})"
   ]
  },
  {
   "cell_type": "code",
   "execution_count": 28,
   "metadata": {
    "collapsed": true
   },
   "outputs": [],
   "source": [
    "edges = util.dist1D(clipped_data, ret='edges')\n",
    "dist = util.dist2D(clipped_data, nbins=50, weight_name='ww')\n",
    "fes = util.free_energy(dist, kbt=2.49)"
   ]
  },
  {
   "cell_type": "code",
   "execution_count": 29,
   "metadata": {
    "collapsed": false
   },
   "outputs": [
    {
     "data": {
      "image/png": "[encoded data removed]",
      "text/plain": [
       "<matplotlib.figure.Figure at 0x7f0ea823dd68>"
      ]
     },
     "metadata": {},
     "output_type": "display_data"
    }
   ],
   "source": [
    "_ = vis.dist2D(fes, edges)"
   ]
  }
 ],
 "metadata": {
  "kernelspec": {
   "display_name": "Python 3",
   "language": "python",
   "name": "python3"
  },
  "language_info": {
   "codemirror_mode": {
    "name": "ipython",
    "version": 3
   },
   "file_extension": ".py",
   "mimetype": "text/x-python",
   "name": "python",
   "nbconvert_exporter": "python",
   "pygments_lexer": "ipython3",
   "version": "3.5.1"
  }
 },
 "nbformat": 4,
 "nbformat_minor": 0
}
